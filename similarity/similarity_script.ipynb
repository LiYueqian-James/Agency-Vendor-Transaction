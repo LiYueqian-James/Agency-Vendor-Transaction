{
 "cells": [
  {
   "cell_type": "code",
   "execution_count": 1,
   "metadata": {},
   "outputs": [],
   "source": [
    "import pandas as pd\n",
    "from matplotlib import pyplot as plt\n",
    "import re"
   ]
  },
  {
   "cell_type": "code",
   "execution_count": 2,
   "metadata": {},
   "outputs": [],
   "source": [
    "raw_data_path = \"Purchase_Card_Transactions.csv\"\n",
    "raw_data = pd.read_csv(raw_data_path)\n",
    "# raw_data[\"TRANSACTION_DATE\"] = pd.to_datetime(raw_data[\"TRANSACTION_DATE\"])\n",
    "raw_data = raw_data.applymap(lambda s:s.upper() if type(s) == str else s)\n",
    "raw_data = raw_data.applymap(lambda s:re.sub(\"[^\\w]\", \"_\", s) if type(s) == str else s)"
   ]
  },
  {
   "cell_type": "code",
   "execution_count": 3,
   "metadata": {},
   "outputs": [
    {
     "data": {
      "text/html": [
       "<div>\n",
       "<style scoped>\n",
       "    .dataframe tbody tr th:only-of-type {\n",
       "        vertical-align: middle;\n",
       "    }\n",
       "\n",
       "    .dataframe tbody tr th {\n",
       "        vertical-align: top;\n",
       "    }\n",
       "\n",
       "    .dataframe thead th {\n",
       "        text-align: right;\n",
       "    }\n",
       "</style>\n",
       "<table border=\"1\" class=\"dataframe\">\n",
       "  <thead>\n",
       "    <tr style=\"text-align: right;\">\n",
       "      <th></th>\n",
       "      <th>OBJECTID</th>\n",
       "      <th>AGENCY</th>\n",
       "      <th>TRANSACTION_DATE</th>\n",
       "      <th>TRANSACTION_AMOUNT</th>\n",
       "      <th>VENDOR_NAME</th>\n",
       "      <th>VENDOR_STATE_PROVINCE</th>\n",
       "      <th>MCC_DESCRIPTION</th>\n",
       "    </tr>\n",
       "  </thead>\n",
       "  <tbody>\n",
       "    <tr>\n",
       "      <th>0</th>\n",
       "      <td>64</td>\n",
       "      <td>DEPARTMENT_OF_HEALTH</td>\n",
       "      <td>2009_01_06_05_00_00_00</td>\n",
       "      <td>4.75</td>\n",
       "      <td>NPDB_NPDB_HIPDB_HRSA_G</td>\n",
       "      <td>VA</td>\n",
       "      <td>GOVERNMENT_SERVICES__NOT_ELSEWHERE_CLASSIFIED</td>\n",
       "    </tr>\n",
       "    <tr>\n",
       "      <th>1</th>\n",
       "      <td>65</td>\n",
       "      <td>DEPARTMENT_OF_HEALTH</td>\n",
       "      <td>2009_01_06_05_00_00_00</td>\n",
       "      <td>-464.48</td>\n",
       "      <td>PRESSTEK</td>\n",
       "      <td>NH</td>\n",
       "      <td>COMMERCIAL_PHOTOGRAPHY__ART___GRAPHICS</td>\n",
       "    </tr>\n",
       "    <tr>\n",
       "      <th>2</th>\n",
       "      <td>66</td>\n",
       "      <td>DEPARTMENT_OF_HEALTH</td>\n",
       "      <td>2009_01_05_05_00_00_00</td>\n",
       "      <td>425.00</td>\n",
       "      <td>AMERICAN_ASSOC00_OF_00</td>\n",
       "      <td>VA</td>\n",
       "      <td>CHARITABLE_AND_SOCIAL_SERVICE_ORGANIZATIONS</td>\n",
       "    </tr>\n",
       "    <tr>\n",
       "      <th>3</th>\n",
       "      <td>67</td>\n",
       "      <td>DEPARTMENT_OF_HEALTH</td>\n",
       "      <td>2009_01_06_05_00_00_00</td>\n",
       "      <td>4.75</td>\n",
       "      <td>HIPDB_NPDB_HIPDB_HRSA_</td>\n",
       "      <td>VA</td>\n",
       "      <td>GOVERNMENT_SERVICES__NOT_ELSEWHERE_CLASSIFIED</td>\n",
       "    </tr>\n",
       "    <tr>\n",
       "      <th>4</th>\n",
       "      <td>68</td>\n",
       "      <td>DEPARTMENT_OF_HEALTH</td>\n",
       "      <td>2009_01_06_05_00_00_00</td>\n",
       "      <td>4.75</td>\n",
       "      <td>HIPDB_NPDB_HIPDB_HRSA_</td>\n",
       "      <td>VA</td>\n",
       "      <td>GOVERNMENT_SERVICES__NOT_ELSEWHERE_CLASSIFIED</td>\n",
       "    </tr>\n",
       "  </tbody>\n",
       "</table>\n",
       "</div>"
      ],
      "text/plain": [
       "   OBJECTID                AGENCY        TRANSACTION_DATE  TRANSACTION_AMOUNT  \\\n",
       "0        64  DEPARTMENT_OF_HEALTH  2009_01_06_05_00_00_00                4.75   \n",
       "1        65  DEPARTMENT_OF_HEALTH  2009_01_06_05_00_00_00             -464.48   \n",
       "2        66  DEPARTMENT_OF_HEALTH  2009_01_05_05_00_00_00              425.00   \n",
       "3        67  DEPARTMENT_OF_HEALTH  2009_01_06_05_00_00_00                4.75   \n",
       "4        68  DEPARTMENT_OF_HEALTH  2009_01_06_05_00_00_00                4.75   \n",
       "\n",
       "              VENDOR_NAME VENDOR_STATE_PROVINCE  \\\n",
       "0  NPDB_NPDB_HIPDB_HRSA_G                    VA   \n",
       "1                PRESSTEK                    NH   \n",
       "2  AMERICAN_ASSOC00_OF_00                    VA   \n",
       "3  HIPDB_NPDB_HIPDB_HRSA_                    VA   \n",
       "4  HIPDB_NPDB_HIPDB_HRSA_                    VA   \n",
       "\n",
       "                                 MCC_DESCRIPTION  \n",
       "0  GOVERNMENT_SERVICES__NOT_ELSEWHERE_CLASSIFIED  \n",
       "1         COMMERCIAL_PHOTOGRAPHY__ART___GRAPHICS  \n",
       "2    CHARITABLE_AND_SOCIAL_SERVICE_ORGANIZATIONS  \n",
       "3  GOVERNMENT_SERVICES__NOT_ELSEWHERE_CLASSIFIED  \n",
       "4  GOVERNMENT_SERVICES__NOT_ELSEWHERE_CLASSIFIED  "
      ]
     },
     "execution_count": 3,
     "metadata": {},
     "output_type": "execute_result"
    }
   ],
   "source": [
    "raw_data.head()"
   ]
  },
  {
   "cell_type": "code",
   "execution_count": 4,
   "metadata": {},
   "outputs": [
    {
     "data": {
      "text/html": [
       "<div>\n",
       "<style scoped>\n",
       "    .dataframe tbody tr th:only-of-type {\n",
       "        vertical-align: middle;\n",
       "    }\n",
       "\n",
       "    .dataframe tbody tr th {\n",
       "        vertical-align: top;\n",
       "    }\n",
       "\n",
       "    .dataframe thead th {\n",
       "        text-align: right;\n",
       "    }\n",
       "</style>\n",
       "<table border=\"1\" class=\"dataframe\">\n",
       "  <thead>\n",
       "    <tr style=\"text-align: right;\">\n",
       "      <th></th>\n",
       "      <th>AGENCY</th>\n",
       "      <th>TRANSACTION_AMOUNT</th>\n",
       "      <th>VENDOR_NAME</th>\n",
       "      <th>VENDOR_STATE_PROVINCE</th>\n",
       "      <th>MCC_DESCRIPTION</th>\n",
       "      <th>YEAR</th>\n",
       "    </tr>\n",
       "  </thead>\n",
       "  <tbody>\n",
       "    <tr>\n",
       "      <th>0</th>\n",
       "      <td>DEPARTMENT_OF_HEALTH</td>\n",
       "      <td>4.75</td>\n",
       "      <td>NPDB_NPDB_HIPDB_HRSA_G</td>\n",
       "      <td>VA</td>\n",
       "      <td>GOVERNMENT_SERVICES__NOT_ELSEWHERE_CLASSIFIED</td>\n",
       "      <td>2009</td>\n",
       "    </tr>\n",
       "    <tr>\n",
       "      <th>1</th>\n",
       "      <td>DEPARTMENT_OF_HEALTH</td>\n",
       "      <td>-464.48</td>\n",
       "      <td>PRESSTEK</td>\n",
       "      <td>NH</td>\n",
       "      <td>COMMERCIAL_PHOTOGRAPHY__ART___GRAPHICS</td>\n",
       "      <td>2009</td>\n",
       "    </tr>\n",
       "    <tr>\n",
       "      <th>2</th>\n",
       "      <td>DEPARTMENT_OF_HEALTH</td>\n",
       "      <td>425.00</td>\n",
       "      <td>AMERICAN_ASSOC00_OF_00</td>\n",
       "      <td>VA</td>\n",
       "      <td>CHARITABLE_AND_SOCIAL_SERVICE_ORGANIZATIONS</td>\n",
       "      <td>2009</td>\n",
       "    </tr>\n",
       "    <tr>\n",
       "      <th>3</th>\n",
       "      <td>DEPARTMENT_OF_HEALTH</td>\n",
       "      <td>4.75</td>\n",
       "      <td>HIPDB_NPDB_HIPDB_HRSA_</td>\n",
       "      <td>VA</td>\n",
       "      <td>GOVERNMENT_SERVICES__NOT_ELSEWHERE_CLASSIFIED</td>\n",
       "      <td>2009</td>\n",
       "    </tr>\n",
       "    <tr>\n",
       "      <th>4</th>\n",
       "      <td>DEPARTMENT_OF_HEALTH</td>\n",
       "      <td>4.75</td>\n",
       "      <td>HIPDB_NPDB_HIPDB_HRSA_</td>\n",
       "      <td>VA</td>\n",
       "      <td>GOVERNMENT_SERVICES__NOT_ELSEWHERE_CLASSIFIED</td>\n",
       "      <td>2009</td>\n",
       "    </tr>\n",
       "  </tbody>\n",
       "</table>\n",
       "</div>"
      ],
      "text/plain": [
       "                 AGENCY  TRANSACTION_AMOUNT             VENDOR_NAME  \\\n",
       "0  DEPARTMENT_OF_HEALTH                4.75  NPDB_NPDB_HIPDB_HRSA_G   \n",
       "1  DEPARTMENT_OF_HEALTH             -464.48                PRESSTEK   \n",
       "2  DEPARTMENT_OF_HEALTH              425.00  AMERICAN_ASSOC00_OF_00   \n",
       "3  DEPARTMENT_OF_HEALTH                4.75  HIPDB_NPDB_HIPDB_HRSA_   \n",
       "4  DEPARTMENT_OF_HEALTH                4.75  HIPDB_NPDB_HIPDB_HRSA_   \n",
       "\n",
       "  VENDOR_STATE_PROVINCE                                MCC_DESCRIPTION  YEAR  \n",
       "0                    VA  GOVERNMENT_SERVICES__NOT_ELSEWHERE_CLASSIFIED  2009  \n",
       "1                    NH         COMMERCIAL_PHOTOGRAPHY__ART___GRAPHICS  2009  \n",
       "2                    VA    CHARITABLE_AND_SOCIAL_SERVICE_ORGANIZATIONS  2009  \n",
       "3                    VA  GOVERNMENT_SERVICES__NOT_ELSEWHERE_CLASSIFIED  2009  \n",
       "4                    VA  GOVERNMENT_SERVICES__NOT_ELSEWHERE_CLASSIFIED  2009  "
      ]
     },
     "execution_count": 4,
     "metadata": {},
     "output_type": "execute_result"
    }
   ],
   "source": [
    "# grouping\n",
    "\n",
    "# split the data into multiple years\n",
    "year_data = raw_data.drop(columns=[\"OBJECTID\",\"TRANSACTION_DATE\"])\n",
    "year_data[\"YEAR\"] = raw_data[\"TRANSACTION_DATE\"].apply(lambda x: str(x)[:4])\n",
    "\n",
    "year_data.head()"
   ]
  },
  {
   "cell_type": "code",
   "execution_count": 5,
   "metadata": {},
   "outputs": [
    {
     "data": {
      "text/plain": [
       "array(['2000', '2009', '2010', '2011', '2012', '2013', '2014', '2015',\n",
       "       '2016', '2017', '2018', '2019', '2020'], dtype=object)"
      ]
     },
     "execution_count": 5,
     "metadata": {},
     "output_type": "execute_result"
    }
   ],
   "source": [
    "# grouping\n",
    "grouped_data = year_data.groupby([\"YEAR\", \"AGENCY\", \"VENDOR_NAME\", \"MCC_DESCRIPTION\"], as_index=False).sum()\n",
    "grouped_data[\"YEAR\"].unique()"
   ]
  },
  {
   "cell_type": "code",
   "execution_count": 6,
   "metadata": {},
   "outputs": [
    {
     "data": {
      "text/plain": [
       "array(['2009', '2010', '2011', '2000', '2012', '2013', '2014', '2015',\n",
       "       '2016', '2017', '2018', '2019', '2020'], dtype=object)"
      ]
     },
     "execution_count": 6,
     "metadata": {},
     "output_type": "execute_result"
    }
   ],
   "source": [
    "# we have an outlier (year 2000), double check to see if there's any other outliers\n",
    "year_data[\"YEAR\"].unique()"
   ]
  },
  {
   "cell_type": "code",
   "execution_count": 7,
   "metadata": {},
   "outputs": [
    {
     "data": {
      "text/html": [
       "<div>\n",
       "<style scoped>\n",
       "    .dataframe tbody tr th:only-of-type {\n",
       "        vertical-align: middle;\n",
       "    }\n",
       "\n",
       "    .dataframe tbody tr th {\n",
       "        vertical-align: top;\n",
       "    }\n",
       "\n",
       "    .dataframe thead th {\n",
       "        text-align: right;\n",
       "    }\n",
       "</style>\n",
       "<table border=\"1\" class=\"dataframe\">\n",
       "  <thead>\n",
       "    <tr style=\"text-align: right;\">\n",
       "      <th></th>\n",
       "      <th>AGENCY</th>\n",
       "      <th>TRANSACTION_AMOUNT</th>\n",
       "      <th>VENDOR_NAME</th>\n",
       "      <th>VENDOR_STATE_PROVINCE</th>\n",
       "      <th>MCC_DESCRIPTION</th>\n",
       "      <th>YEAR</th>\n",
       "    </tr>\n",
       "  </thead>\n",
       "  <tbody>\n",
       "    <tr>\n",
       "      <th>82171</th>\n",
       "      <td>DC_SENTENCING___CRIMINAL_CODE_REVIEW_COMMITTEE</td>\n",
       "      <td>-11.94</td>\n",
       "      <td>IMAGISTICS</td>\n",
       "      <td>CT</td>\n",
       "      <td>BUSINESS_SERVICES_NOT_ELSEWHERE_CLASSIFIED</td>\n",
       "      <td>2000</td>\n",
       "    </tr>\n",
       "  </tbody>\n",
       "</table>\n",
       "</div>"
      ],
      "text/plain": [
       "                                               AGENCY  TRANSACTION_AMOUNT  \\\n",
       "82171  DC_SENTENCING___CRIMINAL_CODE_REVIEW_COMMITTEE              -11.94   \n",
       "\n",
       "      VENDOR_NAME VENDOR_STATE_PROVINCE  \\\n",
       "82171  IMAGISTICS                    CT   \n",
       "\n",
       "                                  MCC_DESCRIPTION  YEAR  \n",
       "82171  BUSINESS_SERVICES_NOT_ELSEWHERE_CLASSIFIED  2000  "
      ]
     },
     "execution_count": 7,
     "metadata": {},
     "output_type": "execute_result"
    }
   ],
   "source": [
    "# Only one outlier, 2000, see what vendors and agencies are there\n",
    "year_data[year_data[\"YEAR\"]== \"2000\"]"
   ]
  },
  {
   "cell_type": "code",
   "execution_count": 8,
   "metadata": {},
   "outputs": [],
   "source": [
    "# Only one such transcation, let's remove it\n",
    "year_data.drop(index=[82171], inplace=True)\n",
    "# grouped_data.drop(index=\"2000\", inplace=True)"
   ]
  },
  {
   "cell_type": "code",
   "execution_count": 9,
   "metadata": {},
   "outputs": [],
   "source": [
    "def approximation(name):\n",
    "    approx = \"[^a-zA-Z]*\"\n",
    "    return \"^\"+ approx + name + approx + \"$\""
   ]
  },
  {
   "cell_type": "code",
   "execution_count": 10,
   "metadata": {},
   "outputs": [
    {
     "data": {
      "text/plain": [
       "array(['2009', '2010', '2011', '2012', '2013', '2014', '2015', '2016',\n",
       "       '2017', '2018', '2019', '2020'], dtype=object)"
      ]
     },
     "execution_count": 10,
     "metadata": {},
     "output_type": "execute_result"
    }
   ],
   "source": [
    "# years of interests\n",
    "years = year_data[\"YEAR\"].unique()\n",
    "years"
   ]
  },
  {
   "cell_type": "code",
   "execution_count": 11,
   "metadata": {},
   "outputs": [],
   "source": [
    "# A metric for similarity\n",
    "def measure_similarity(p1, p2, years, type_idx):\n",
    "    similarity = {}\n",
    "    type_names = [\"AGENCY\", \"VENDOR_NAME\"]\n",
    "    p1 = approximation(p1)\n",
    "    p2 = approximation(p2)\n",
    "\n",
    "    type_name = type_names[type_idx] # either agency or vendor\n",
    "    opp = type_names[(type_idx+1)%2] # if agency then vendor, vice versa\n",
    "\n",
    "    # group based on mcc\n",
    "    p1_df = grouped_data[grouped_data[type_name].str.match(p1, case=False)].groupby([\"YEAR\", \"MCC_DESCRIPTION\"], as_index=False).sum()\n",
    "    p2_df = grouped_data[grouped_data[type_name].str.match(p2, case=False)].groupby([\"YEAR\", \"MCC_DESCRIPTION\"], as_index=False).sum()\n",
    "    if p1_df.empty:\n",
    "        print(\"can't find ventor/agency %s\"%p1);\n",
    "    if p2_df.empty:\n",
    "        print(\"can't find ventor/agency %s\"%21);\n",
    "    # find their common mcc, its ratio, at each year\n",
    "    for year in years:\n",
    "        # slice out data of a year\n",
    "        p1_year = p1_df[p1_df[\"YEAR\"]==year]\n",
    "        p2_year = p2_df[p2_df[\"YEAR\"]==year]\n",
    "        \n",
    "        # calculate total transcation\n",
    "        p1_transaction = p1_year[\"TRANSACTION_AMOUNT\"].sum()\n",
    "        p2_transaction = p2_year[\"TRANSACTION_AMOUNT\"].sum()\n",
    "        \n",
    "        # if no transaction, then no similarity\n",
    "        if (p1_transaction == 0) or (p2_transaction == 0):\n",
    "            similarity[year] = 0\n",
    "            continue\n",
    "        total_transaction = p1_transaction + p2_transaction\n",
    "        \n",
    "        # find all the mccs\n",
    "        p1_mccs = set(p1_year[\"MCC_DESCRIPTION\"].unique())\n",
    "        p2_mccs = set(p2_year[\"MCC_DESCRIPTION\"].unique())\n",
    "        \n",
    "        # find the common mccs\n",
    "        intersects = set.intersection(p1_mccs, p2_mccs)\n",
    "#         print(intersects)\n",
    "        # calculate the amount of transcations of common mccs\n",
    "        common_transaction = 0\n",
    "        for intersect in intersects:\n",
    "            common_transaction += p1_year.loc[p1_df[\"MCC_DESCRIPTION\"] == intersect, \"TRANSACTION_AMOUNT\"].sum()\n",
    "            common_transaction += p2_year.loc[p2_df[\"MCC_DESCRIPTION\"] == intersect, \"TRANSACTION_AMOUNT\"].sum()\n",
    "        similarity[year] = common_transaction / total_transaction\n",
    "    return similarity    "
   ]
  },
  {
   "cell_type": "code",
   "execution_count": 12,
   "metadata": {},
   "outputs": [
    {
     "data": {
      "text/plain": [
       "{'2009': 0,\n",
       " '2010': 0,\n",
       " '2011': 0,\n",
       " '2012': 0,\n",
       " '2013': 0,\n",
       " '2014': 0,\n",
       " '2015': 0,\n",
       " '2016': 0,\n",
       " '2017': 0,\n",
       " '2018': 0.0,\n",
       " '2019': 0.0,\n",
       " '2020': 0.0}"
      ]
     },
     "execution_count": 12,
     "metadata": {},
     "output_type": "execute_result"
    }
   ],
   "source": [
    "measure_similarity(\"ZOOM.US\", \"DELTA\", years, 1)"
   ]
  },
  {
   "cell_type": "code",
   "execution_count": 13,
   "metadata": {},
   "outputs": [
    {
     "data": {
      "text/plain": [
       "{'2009': 1.0,\n",
       " '2010': 1.0,\n",
       " '2011': 1.0,\n",
       " '2012': 0,\n",
       " '2013': 0,\n",
       " '2014': 0,\n",
       " '2015': 0,\n",
       " '2016': 0,\n",
       " '2017': 0,\n",
       " '2018': 0,\n",
       " '2019': 0,\n",
       " '2020': 0}"
      ]
     },
     "execution_count": 13,
     "metadata": {},
     "output_type": "execute_result"
    }
   ],
   "source": [
    "measure_similarity(\"SPECIALTYBOOKS.COM\", \"AMAZON.COM\", years, 1)"
   ]
  },
  {
   "cell_type": "code",
   "execution_count": 28,
   "metadata": {},
   "outputs": [],
   "source": [
    "sim = measure_similarity(\"DC_PUBLIC_LIBRARY\", \"DEPARTMENT_OF_EDUCATION\", years, 0)"
   ]
  },
  {
   "cell_type": "code",
   "execution_count": 29,
   "metadata": {},
   "outputs": [
    {
     "data": {
      "text/plain": [
       "Text(0.5, 0, 'years')"
      ]
     },
     "execution_count": 29,
     "metadata": {},
     "output_type": "execute_result"
    },
    {
     "data": {
      "image/png": "[encoded data removed]",
      "text/plain": [
       "<Figure size 432x288 with 1 Axes>"
      ]
     },
     "metadata": {
      "needs_background": "light"
     },
     "output_type": "display_data"
    }
   ],
   "source": [
    "plt.plot(sim.keys(),sim.values())\n",
    "plt.title(\"DC Public Library and Department of Transportation 2009-2020\")\n",
    "plt.ylabel(\"Similarity\")\n",
    "plt.xlabel(\"years\")"
   ]
  },
  {
   "cell_type": "markdown",
   "metadata": {},
   "source": [
    "To recommend business to vendors, we can get a list of existing partners(agencies that are already in contract with the vendor) and a list of potential candidates. Running such similarity analysis can help vendors to find out which candidate is more similar to which existing partners. "
   ]
  }
 ],
 "metadata": {
  "kernelspec": {
   "display_name": "Python 3",
   "language": "python",
   "name": "python3"
  },
  "language_info": {
   "codemirror_mode": {
    "name": "ipython",
    "version": 3
   },
   "file_extension": ".py",
   "mimetype": "text/x-python",
   "name": "python",
   "nbconvert_exporter": "python",
   "pygments_lexer": "ipython3",
   "version": "3.8.5"
  }
 },
 "nbformat": 4,
 "nbformat_minor": 4
}
